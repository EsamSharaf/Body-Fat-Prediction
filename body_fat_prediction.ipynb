{
  "cells": [
    {
      "cell_type": "markdown",
      "metadata": {
        "id": "view-in-github",
        "colab_type": "text"
      },
      "source": [
        "<a href=\"https://colab.research.google.com/github/EsamSharaf/Body-Fat-Prediction/blob/main/body_fat_prediction.ipynb\" target=\"_parent\"><img src=\"https://colab.research.google.com/assets/colab-badge.svg\" alt=\"Open In Colab\"/></a>"
      ]
    },
    {
      "cell_type": "markdown",
      "source": [
        "# **Intro**\n",
        "\n",
        "\n",
        "\n",
        "\n",
        "\n"
      ],
      "metadata": {
        "id": "44FX3ZY9Xk69"
      }
    },
    {
      "cell_type": "markdown",
      "source": [
        "**This task aims for predicting body fat percentage from a group of input features. Measuring fat percentage requires many body measurements. This is an attempt to build a model based on the input data to estimate the Body Fat with the sufficient number of features to do that, which could make fat percetage estimation more convenient**\n",
        "\n",
        "**The dataset comprises a set of features of 252 men in order to estimate Body Fat Percentage.**\n",
        "\n",
        "\n",
        "**The dataset contains the following features:**\n",
        "\n",
        "\n",
        "**1. Density determined: body weight (mass)by body volume from underwater weighing.**\n",
        "\n",
        "**2. Percent body fat (The target variable): total body mass times 100.from Siri's (1956) equation.**\n",
        "\n",
        "**3. Age: the age of of the participant in years.**\n",
        "\n",
        "**4. Weight: the age of of the participant in pounds (lbs).**\n",
        "\n",
        "**5. Height: the height of the participant in inches.**\n",
        "\n",
        "**6. Neck circumference in cm.**\n",
        "\n",
        "**7. Chest circumference in cm.**\n",
        "\n",
        "**8. Abdomen 2 circumference: at the level of the iliac crests, and anteriorly, at the umbilicus, laterally (cm).**\n",
        "\n",
        "**9. Hip circumference in cm.**\n",
        "\n",
        "**10. Thigh circumference in cm.**\n",
        "\n",
        "**11. Knee circumference in cm.**\n",
        "\n",
        "**12. Ankle circumference in cm.**\n",
        "\n",
        "**13. Biceps (extended) circumference (cm)**\n",
        "\n",
        "**14. Forearm circumference (cm)**\n",
        "\n",
        "**15. Wrist circumference (cm)**"
      ],
      "metadata": {
        "id": "2qpUTV3AYNvx"
      }
    },
    {
      "cell_type": "markdown",
      "source": [
        "# **EDA**"
      ],
      "metadata": {
        "id": "VnPaT-6bYOW_"
      }
    },
    {
      "cell_type": "code",
      "execution_count": 286,
      "metadata": {
        "id": "4joCSxUOnYSM"
      },
      "outputs": [],
      "source": [
        "# Import Libraries and Modules\n",
        "import numpy as np\n",
        "import pandas as pd\n",
        "import matplotlib\n",
        "import matplotlib.pyplot as plt\n",
        "import importlib\n",
        "import seaborn as sns\n",
        "import scipy.stats as stats\n",
        "from sklearn.preprocessing import StandardScaler\n",
        "from sklearn.model_selection import train_test_split\n",
        "from sklearn.linear_model import LinearRegression\n",
        "from sklearn.metrics import r2_score, mean_squared_error, mean_absolute_error, make_scorer\n",
        "import time\n",
        "start = time.time()"
      ]
    },
    {
      "cell_type": "code",
      "execution_count": 287,
      "metadata": {
        "colab": {
          "base_uri": "https://localhost:8080/"
        },
        "id": "omMd2bkDr81-",
        "outputId": "539be1cc-637e-4671-fea6-d0420324bf71"
      },
      "outputs": [
        {
          "output_type": "stream",
          "name": "stdout",
          "text": [
            "<class 'pandas.core.frame.DataFrame'>\n",
            "RangeIndex: 252 entries, 0 to 251\n",
            "Data columns (total 15 columns):\n",
            " #   Column   Non-Null Count  Dtype  \n",
            "---  ------   --------------  -----  \n",
            " 0   Density  252 non-null    float64\n",
            " 1   BodyFat  252 non-null    float64\n",
            " 2   Age      252 non-null    int64  \n",
            " 3   Weight   252 non-null    float64\n",
            " 4   Height   252 non-null    float64\n",
            " 5   Neck     252 non-null    float64\n",
            " 6   Chest    252 non-null    float64\n",
            " 7   Abdomen  252 non-null    float64\n",
            " 8   Hip      252 non-null    float64\n",
            " 9   Thigh    252 non-null    float64\n",
            " 10  Knee     252 non-null    float64\n",
            " 11  Ankle    252 non-null    float64\n",
            " 12  Biceps   252 non-null    float64\n",
            " 13  Forearm  252 non-null    float64\n",
            " 14  Wrist    252 non-null    float64\n",
            "dtypes: float64(14), int64(1)\n",
            "memory usage: 29.7 KB\n"
          ]
        }
      ],
      "source": [
        "# Read the CSV file using Pandas\n",
        "df = pd.read_csv('bodyfat.csv')\n",
        "\n",
        "# Chec the types of dataset's variables\n",
        "df.info()"
      ]
    },
    {
      "cell_type": "markdown",
      "source": [
        "**The dataset comprises 15 numeric variable, 0 Categorical variables**"
      ],
      "metadata": {
        "id": "mZYq32MQc1J7"
      }
    },
    {
      "cell_type": "markdown",
      "source": [
        "**As the predicted variable is continous, regression models will be used for prediciting the body fat percentage.**"
      ],
      "metadata": {
        "id": "N0u9UKrQv4eI"
      }
    },
    {
      "cell_type": "code",
      "source": [
        "# Gett a glance at the variables \n",
        "df.tail()"
      ],
      "metadata": {
        "colab": {
          "base_uri": "https://localhost:8080/",
          "height": 206
        },
        "id": "lYxAhhlsvpi3",
        "outputId": "8db81007-efcf-4e66-f30b-4c4cdae9766f"
      },
      "execution_count": 288,
      "outputs": [
        {
          "output_type": "execute_result",
          "data": {
            "text/plain": [
              "     Density  BodyFat  Age  Weight  Height  Neck  Chest  Abdomen    Hip  \\\n",
              "247   1.0736     11.0   70  134.25   67.00  34.9   89.2     83.6   88.8   \n",
              "248   1.0236     33.6   72  201.00   69.75  40.9  108.5    105.0  104.5   \n",
              "249   1.0328     29.3   72  186.75   66.00  38.9  111.1    111.5  101.7   \n",
              "250   1.0399     26.0   72  190.75   70.50  38.9  108.3    101.3   97.8   \n",
              "251   1.0271     31.9   74  207.50   70.00  40.8  112.4    108.5  107.1   \n",
              "\n",
              "     Thigh  Knee  Ankle  Biceps  Forearm  Wrist  \n",
              "247   49.6  34.8   21.5    25.6     25.7   18.5  \n",
              "248   59.6  40.8   23.2    35.2     28.6   20.1  \n",
              "249   60.3  37.3   21.5    31.3     27.2   18.0  \n",
              "250   56.0  41.6   22.7    30.5     29.4   19.8  \n",
              "251   59.3  42.2   24.6    33.7     30.0   20.9  "
            ],
            "text/html": [
              "\n",
              "  <div id=\"df-7d7cebd5-a413-472f-9873-c3c824896542\">\n",
              "    <div class=\"colab-df-container\">\n",
              "      <div>\n",
              "<style scoped>\n",
              "    .dataframe tbody tr th:only-of-type {\n",
              "        vertical-align: middle;\n",
              "    }\n",
              "\n",
              "    .dataframe tbody tr th {\n",
              "        vertical-align: top;\n",
              "    }\n",
              "\n",
              "    .dataframe thead th {\n",
              "        text-align: right;\n",
              "    }\n",
              "</style>\n",
              "<table border=\"1\" class=\"dataframe\">\n",
              "  <thead>\n",
              "    <tr style=\"text-align: right;\">\n",
              "      <th></th>\n",
              "      <th>Density</th>\n",
              "      <th>BodyFat</th>\n",
              "      <th>Age</th>\n",
              "      <th>Weight</th>\n",
              "      <th>Height</th>\n",
              "      <th>Neck</th>\n",
              "      <th>Chest</th>\n",
              "      <th>Abdomen</th>\n",
              "      <th>Hip</th>\n",
              "      <th>Thigh</th>\n",
              "      <th>Knee</th>\n",
              "      <th>Ankle</th>\n",
              "      <th>Biceps</th>\n",
              "      <th>Forearm</th>\n",
              "      <th>Wrist</th>\n",
              "    </tr>\n",
              "  </thead>\n",
              "  <tbody>\n",
              "    <tr>\n",
              "      <th>247</th>\n",
              "      <td>1.0736</td>\n",
              "      <td>11.0</td>\n",
              "      <td>70</td>\n",
              "      <td>134.25</td>\n",
              "      <td>67.00</td>\n",
              "      <td>34.9</td>\n",
              "      <td>89.2</td>\n",
              "      <td>83.6</td>\n",
              "      <td>88.8</td>\n",
              "      <td>49.6</td>\n",
              "      <td>34.8</td>\n",
              "      <td>21.5</td>\n",
              "      <td>25.6</td>\n",
              "      <td>25.7</td>\n",
              "      <td>18.5</td>\n",
              "    </tr>\n",
              "    <tr>\n",
              "      <th>248</th>\n",
              "      <td>1.0236</td>\n",
              "      <td>33.6</td>\n",
              "      <td>72</td>\n",
              "      <td>201.00</td>\n",
              "      <td>69.75</td>\n",
              "      <td>40.9</td>\n",
              "      <td>108.5</td>\n",
              "      <td>105.0</td>\n",
              "      <td>104.5</td>\n",
              "      <td>59.6</td>\n",
              "      <td>40.8</td>\n",
              "      <td>23.2</td>\n",
              "      <td>35.2</td>\n",
              "      <td>28.6</td>\n",
              "      <td>20.1</td>\n",
              "    </tr>\n",
              "    <tr>\n",
              "      <th>249</th>\n",
              "      <td>1.0328</td>\n",
              "      <td>29.3</td>\n",
              "      <td>72</td>\n",
              "      <td>186.75</td>\n",
              "      <td>66.00</td>\n",
              "      <td>38.9</td>\n",
              "      <td>111.1</td>\n",
              "      <td>111.5</td>\n",
              "      <td>101.7</td>\n",
              "      <td>60.3</td>\n",
              "      <td>37.3</td>\n",
              "      <td>21.5</td>\n",
              "      <td>31.3</td>\n",
              "      <td>27.2</td>\n",
              "      <td>18.0</td>\n",
              "    </tr>\n",
              "    <tr>\n",
              "      <th>250</th>\n",
              "      <td>1.0399</td>\n",
              "      <td>26.0</td>\n",
              "      <td>72</td>\n",
              "      <td>190.75</td>\n",
              "      <td>70.50</td>\n",
              "      <td>38.9</td>\n",
              "      <td>108.3</td>\n",
              "      <td>101.3</td>\n",
              "      <td>97.8</td>\n",
              "      <td>56.0</td>\n",
              "      <td>41.6</td>\n",
              "      <td>22.7</td>\n",
              "      <td>30.5</td>\n",
              "      <td>29.4</td>\n",
              "      <td>19.8</td>\n",
              "    </tr>\n",
              "    <tr>\n",
              "      <th>251</th>\n",
              "      <td>1.0271</td>\n",
              "      <td>31.9</td>\n",
              "      <td>74</td>\n",
              "      <td>207.50</td>\n",
              "      <td>70.00</td>\n",
              "      <td>40.8</td>\n",
              "      <td>112.4</td>\n",
              "      <td>108.5</td>\n",
              "      <td>107.1</td>\n",
              "      <td>59.3</td>\n",
              "      <td>42.2</td>\n",
              "      <td>24.6</td>\n",
              "      <td>33.7</td>\n",
              "      <td>30.0</td>\n",
              "      <td>20.9</td>\n",
              "    </tr>\n",
              "  </tbody>\n",
              "</table>\n",
              "</div>\n",
              "      <button class=\"colab-df-convert\" onclick=\"convertToInteractive('df-7d7cebd5-a413-472f-9873-c3c824896542')\"\n",
              "              title=\"Convert this dataframe to an interactive table.\"\n",
              "              style=\"display:none;\">\n",
              "        \n",
              "  <svg xmlns=\"http://www.w3.org/2000/svg\" height=\"24px\"viewBox=\"0 0 24 24\"\n",
              "       width=\"24px\">\n",
              "    <path d=\"M0 0h24v24H0V0z\" fill=\"none\"/>\n",
              "    <path d=\"M18.56 5.44l.94 2.06.94-2.06 2.06-.94-2.06-.94-.94-2.06-.94 2.06-2.06.94zm-11 1L8.5 8.5l.94-2.06 2.06-.94-2.06-.94L8.5 2.5l-.94 2.06-2.06.94zm10 10l.94 2.06.94-2.06 2.06-.94-2.06-.94-.94-2.06-.94 2.06-2.06.94z\"/><path d=\"M17.41 7.96l-1.37-1.37c-.4-.4-.92-.59-1.43-.59-.52 0-1.04.2-1.43.59L10.3 9.45l-7.72 7.72c-.78.78-.78 2.05 0 2.83L4 21.41c.39.39.9.59 1.41.59.51 0 1.02-.2 1.41-.59l7.78-7.78 2.81-2.81c.8-.78.8-2.07 0-2.86zM5.41 20L4 18.59l7.72-7.72 1.47 1.35L5.41 20z\"/>\n",
              "  </svg>\n",
              "      </button>\n",
              "      \n",
              "  <style>\n",
              "    .colab-df-container {\n",
              "      display:flex;\n",
              "      flex-wrap:wrap;\n",
              "      gap: 12px;\n",
              "    }\n",
              "\n",
              "    .colab-df-convert {\n",
              "      background-color: #E8F0FE;\n",
              "      border: none;\n",
              "      border-radius: 50%;\n",
              "      cursor: pointer;\n",
              "      display: none;\n",
              "      fill: #1967D2;\n",
              "      height: 32px;\n",
              "      padding: 0 0 0 0;\n",
              "      width: 32px;\n",
              "    }\n",
              "\n",
              "    .colab-df-convert:hover {\n",
              "      background-color: #E2EBFA;\n",
              "      box-shadow: 0px 1px 2px rgba(60, 64, 67, 0.3), 0px 1px 3px 1px rgba(60, 64, 67, 0.15);\n",
              "      fill: #174EA6;\n",
              "    }\n",
              "\n",
              "    [theme=dark] .colab-df-convert {\n",
              "      background-color: #3B4455;\n",
              "      fill: #D2E3FC;\n",
              "    }\n",
              "\n",
              "    [theme=dark] .colab-df-convert:hover {\n",
              "      background-color: #434B5C;\n",
              "      box-shadow: 0px 1px 3px 1px rgba(0, 0, 0, 0.15);\n",
              "      filter: drop-shadow(0px 1px 2px rgba(0, 0, 0, 0.3));\n",
              "      fill: #FFFFFF;\n",
              "    }\n",
              "  </style>\n",
              "\n",
              "      <script>\n",
              "        const buttonEl =\n",
              "          document.querySelector('#df-7d7cebd5-a413-472f-9873-c3c824896542 button.colab-df-convert');\n",
              "        buttonEl.style.display =\n",
              "          google.colab.kernel.accessAllowed ? 'block' : 'none';\n",
              "\n",
              "        async function convertToInteractive(key) {\n",
              "          const element = document.querySelector('#df-7d7cebd5-a413-472f-9873-c3c824896542');\n",
              "          const dataTable =\n",
              "            await google.colab.kernel.invokeFunction('convertToInteractive',\n",
              "                                                     [key], {});\n",
              "          if (!dataTable) return;\n",
              "\n",
              "          const docLinkHtml = 'Like what you see? Visit the ' +\n",
              "            '<a target=\"_blank\" href=https://colab.research.google.com/notebooks/data_table.ipynb>data table notebook</a>'\n",
              "            + ' to learn more about interactive tables.';\n",
              "          element.innerHTML = '';\n",
              "          dataTable['output_type'] = 'display_data';\n",
              "          await google.colab.output.renderOutput(dataTable, element);\n",
              "          const docLink = document.createElement('div');\n",
              "          docLink.innerHTML = docLinkHtml;\n",
              "          element.appendChild(docLink);\n",
              "        }\n",
              "      </script>\n",
              "    </div>\n",
              "  </div>\n",
              "  "
            ]
          },
          "metadata": {},
          "execution_count": 288
        }
      ]
    },
    {
      "cell_type": "code",
      "execution_count": 289,
      "metadata": {
        "colab": {
          "base_uri": "https://localhost:8080/",
          "height": 365
        },
        "id": "p4LMpb350mLJ",
        "outputId": "7b355a7e-74d9-4100-ffc4-b986c1373b03"
      },
      "outputs": [
        {
          "output_type": "execute_result",
          "data": {
            "text/plain": [
              "          Density     BodyFat         Age      Weight      Height        Neck  \\\n",
              "count  252.000000  252.000000  252.000000  252.000000  252.000000  252.000000   \n",
              "mean     1.055574   19.150794   44.884921  178.924405   70.148810   37.992063   \n",
              "std      0.019031    8.368740   12.602040   29.389160    3.662856    2.430913   \n",
              "min      0.995000    0.000000   22.000000  118.500000   29.500000   31.100000   \n",
              "25%      1.041400   12.475000   35.750000  159.000000   68.250000   36.400000   \n",
              "50%      1.054900   19.200000   43.000000  176.500000   70.000000   38.000000   \n",
              "75%      1.070400   25.300000   54.000000  197.000000   72.250000   39.425000   \n",
              "max      1.108900   47.500000   81.000000  363.150000   77.750000   51.200000   \n",
              "\n",
              "            Chest     Abdomen         Hip       Thigh        Knee       Ankle  \\\n",
              "count  252.000000  252.000000  252.000000  252.000000  252.000000  252.000000   \n",
              "mean   100.824206   92.555952   99.904762   59.405952   38.590476   23.102381   \n",
              "std      8.430476   10.783077    7.164058    5.249952    2.411805    1.694893   \n",
              "min     79.300000   69.400000   85.000000   47.200000   33.000000   19.100000   \n",
              "25%     94.350000   84.575000   95.500000   56.000000   36.975000   22.000000   \n",
              "50%     99.650000   90.950000   99.300000   59.000000   38.500000   22.800000   \n",
              "75%    105.375000   99.325000  103.525000   62.350000   39.925000   24.000000   \n",
              "max    136.200000  148.100000  147.700000   87.300000   49.100000   33.900000   \n",
              "\n",
              "           Biceps     Forearm       Wrist  \n",
              "count  252.000000  252.000000  252.000000  \n",
              "mean    32.273413   28.663889   18.229762  \n",
              "std      3.021274    2.020691    0.933585  \n",
              "min     24.800000   21.000000   15.800000  \n",
              "25%     30.200000   27.300000   17.600000  \n",
              "50%     32.050000   28.700000   18.300000  \n",
              "75%     34.325000   30.000000   18.800000  \n",
              "max     45.000000   34.900000   21.400000  "
            ],
            "text/html": [
              "\n",
              "  <div id=\"df-31c6664a-8e0a-4642-9739-0b5d1ca642e1\">\n",
              "    <div class=\"colab-df-container\">\n",
              "      <div>\n",
              "<style scoped>\n",
              "    .dataframe tbody tr th:only-of-type {\n",
              "        vertical-align: middle;\n",
              "    }\n",
              "\n",
              "    .dataframe tbody tr th {\n",
              "        vertical-align: top;\n",
              "    }\n",
              "\n",
              "    .dataframe thead th {\n",
              "        text-align: right;\n",
              "    }\n",
              "</style>\n",
              "<table border=\"1\" class=\"dataframe\">\n",
              "  <thead>\n",
              "    <tr style=\"text-align: right;\">\n",
              "      <th></th>\n",
              "      <th>Density</th>\n",
              "      <th>BodyFat</th>\n",
              "      <th>Age</th>\n",
              "      <th>Weight</th>\n",
              "      <th>Height</th>\n",
              "      <th>Neck</th>\n",
              "      <th>Chest</th>\n",
              "      <th>Abdomen</th>\n",
              "      <th>Hip</th>\n",
              "      <th>Thigh</th>\n",
              "      <th>Knee</th>\n",
              "      <th>Ankle</th>\n",
              "      <th>Biceps</th>\n",
              "      <th>Forearm</th>\n",
              "      <th>Wrist</th>\n",
              "    </tr>\n",
              "  </thead>\n",
              "  <tbody>\n",
              "    <tr>\n",
              "      <th>count</th>\n",
              "      <td>252.000000</td>\n",
              "      <td>252.000000</td>\n",
              "      <td>252.000000</td>\n",
              "      <td>252.000000</td>\n",
              "      <td>252.000000</td>\n",
              "      <td>252.000000</td>\n",
              "      <td>252.000000</td>\n",
              "      <td>252.000000</td>\n",
              "      <td>252.000000</td>\n",
              "      <td>252.000000</td>\n",
              "      <td>252.000000</td>\n",
              "      <td>252.000000</td>\n",
              "      <td>252.000000</td>\n",
              "      <td>252.000000</td>\n",
              "      <td>252.000000</td>\n",
              "    </tr>\n",
              "    <tr>\n",
              "      <th>mean</th>\n",
              "      <td>1.055574</td>\n",
              "      <td>19.150794</td>\n",
              "      <td>44.884921</td>\n",
              "      <td>178.924405</td>\n",
              "      <td>70.148810</td>\n",
              "      <td>37.992063</td>\n",
              "      <td>100.824206</td>\n",
              "      <td>92.555952</td>\n",
              "      <td>99.904762</td>\n",
              "      <td>59.405952</td>\n",
              "      <td>38.590476</td>\n",
              "      <td>23.102381</td>\n",
              "      <td>32.273413</td>\n",
              "      <td>28.663889</td>\n",
              "      <td>18.229762</td>\n",
              "    </tr>\n",
              "    <tr>\n",
              "      <th>std</th>\n",
              "      <td>0.019031</td>\n",
              "      <td>8.368740</td>\n",
              "      <td>12.602040</td>\n",
              "      <td>29.389160</td>\n",
              "      <td>3.662856</td>\n",
              "      <td>2.430913</td>\n",
              "      <td>8.430476</td>\n",
              "      <td>10.783077</td>\n",
              "      <td>7.164058</td>\n",
              "      <td>5.249952</td>\n",
              "      <td>2.411805</td>\n",
              "      <td>1.694893</td>\n",
              "      <td>3.021274</td>\n",
              "      <td>2.020691</td>\n",
              "      <td>0.933585</td>\n",
              "    </tr>\n",
              "    <tr>\n",
              "      <th>min</th>\n",
              "      <td>0.995000</td>\n",
              "      <td>0.000000</td>\n",
              "      <td>22.000000</td>\n",
              "      <td>118.500000</td>\n",
              "      <td>29.500000</td>\n",
              "      <td>31.100000</td>\n",
              "      <td>79.300000</td>\n",
              "      <td>69.400000</td>\n",
              "      <td>85.000000</td>\n",
              "      <td>47.200000</td>\n",
              "      <td>33.000000</td>\n",
              "      <td>19.100000</td>\n",
              "      <td>24.800000</td>\n",
              "      <td>21.000000</td>\n",
              "      <td>15.800000</td>\n",
              "    </tr>\n",
              "    <tr>\n",
              "      <th>25%</th>\n",
              "      <td>1.041400</td>\n",
              "      <td>12.475000</td>\n",
              "      <td>35.750000</td>\n",
              "      <td>159.000000</td>\n",
              "      <td>68.250000</td>\n",
              "      <td>36.400000</td>\n",
              "      <td>94.350000</td>\n",
              "      <td>84.575000</td>\n",
              "      <td>95.500000</td>\n",
              "      <td>56.000000</td>\n",
              "      <td>36.975000</td>\n",
              "      <td>22.000000</td>\n",
              "      <td>30.200000</td>\n",
              "      <td>27.300000</td>\n",
              "      <td>17.600000</td>\n",
              "    </tr>\n",
              "    <tr>\n",
              "      <th>50%</th>\n",
              "      <td>1.054900</td>\n",
              "      <td>19.200000</td>\n",
              "      <td>43.000000</td>\n",
              "      <td>176.500000</td>\n",
              "      <td>70.000000</td>\n",
              "      <td>38.000000</td>\n",
              "      <td>99.650000</td>\n",
              "      <td>90.950000</td>\n",
              "      <td>99.300000</td>\n",
              "      <td>59.000000</td>\n",
              "      <td>38.500000</td>\n",
              "      <td>22.800000</td>\n",
              "      <td>32.050000</td>\n",
              "      <td>28.700000</td>\n",
              "      <td>18.300000</td>\n",
              "    </tr>\n",
              "    <tr>\n",
              "      <th>75%</th>\n",
              "      <td>1.070400</td>\n",
              "      <td>25.300000</td>\n",
              "      <td>54.000000</td>\n",
              "      <td>197.000000</td>\n",
              "      <td>72.250000</td>\n",
              "      <td>39.425000</td>\n",
              "      <td>105.375000</td>\n",
              "      <td>99.325000</td>\n",
              "      <td>103.525000</td>\n",
              "      <td>62.350000</td>\n",
              "      <td>39.925000</td>\n",
              "      <td>24.000000</td>\n",
              "      <td>34.325000</td>\n",
              "      <td>30.000000</td>\n",
              "      <td>18.800000</td>\n",
              "    </tr>\n",
              "    <tr>\n",
              "      <th>max</th>\n",
              "      <td>1.108900</td>\n",
              "      <td>47.500000</td>\n",
              "      <td>81.000000</td>\n",
              "      <td>363.150000</td>\n",
              "      <td>77.750000</td>\n",
              "      <td>51.200000</td>\n",
              "      <td>136.200000</td>\n",
              "      <td>148.100000</td>\n",
              "      <td>147.700000</td>\n",
              "      <td>87.300000</td>\n",
              "      <td>49.100000</td>\n",
              "      <td>33.900000</td>\n",
              "      <td>45.000000</td>\n",
              "      <td>34.900000</td>\n",
              "      <td>21.400000</td>\n",
              "    </tr>\n",
              "  </tbody>\n",
              "</table>\n",
              "</div>\n",
              "      <button class=\"colab-df-convert\" onclick=\"convertToInteractive('df-31c6664a-8e0a-4642-9739-0b5d1ca642e1')\"\n",
              "              title=\"Convert this dataframe to an interactive table.\"\n",
              "              style=\"display:none;\">\n",
              "        \n",
              "  <svg xmlns=\"http://www.w3.org/2000/svg\" height=\"24px\"viewBox=\"0 0 24 24\"\n",
              "       width=\"24px\">\n",
              "    <path d=\"M0 0h24v24H0V0z\" fill=\"none\"/>\n",
              "    <path d=\"M18.56 5.44l.94 2.06.94-2.06 2.06-.94-2.06-.94-.94-2.06-.94 2.06-2.06.94zm-11 1L8.5 8.5l.94-2.06 2.06-.94-2.06-.94L8.5 2.5l-.94 2.06-2.06.94zm10 10l.94 2.06.94-2.06 2.06-.94-2.06-.94-.94-2.06-.94 2.06-2.06.94z\"/><path d=\"M17.41 7.96l-1.37-1.37c-.4-.4-.92-.59-1.43-.59-.52 0-1.04.2-1.43.59L10.3 9.45l-7.72 7.72c-.78.78-.78 2.05 0 2.83L4 21.41c.39.39.9.59 1.41.59.51 0 1.02-.2 1.41-.59l7.78-7.78 2.81-2.81c.8-.78.8-2.07 0-2.86zM5.41 20L4 18.59l7.72-7.72 1.47 1.35L5.41 20z\"/>\n",
              "  </svg>\n",
              "      </button>\n",
              "      \n",
              "  <style>\n",
              "    .colab-df-container {\n",
              "      display:flex;\n",
              "      flex-wrap:wrap;\n",
              "      gap: 12px;\n",
              "    }\n",
              "\n",
              "    .colab-df-convert {\n",
              "      background-color: #E8F0FE;\n",
              "      border: none;\n",
              "      border-radius: 50%;\n",
              "      cursor: pointer;\n",
              "      display: none;\n",
              "      fill: #1967D2;\n",
              "      height: 32px;\n",
              "      padding: 0 0 0 0;\n",
              "      width: 32px;\n",
              "    }\n",
              "\n",
              "    .colab-df-convert:hover {\n",
              "      background-color: #E2EBFA;\n",
              "      box-shadow: 0px 1px 2px rgba(60, 64, 67, 0.3), 0px 1px 3px 1px rgba(60, 64, 67, 0.15);\n",
              "      fill: #174EA6;\n",
              "    }\n",
              "\n",
              "    [theme=dark] .colab-df-convert {\n",
              "      background-color: #3B4455;\n",
              "      fill: #D2E3FC;\n",
              "    }\n",
              "\n",
              "    [theme=dark] .colab-df-convert:hover {\n",
              "      background-color: #434B5C;\n",
              "      box-shadow: 0px 1px 3px 1px rgba(0, 0, 0, 0.15);\n",
              "      filter: drop-shadow(0px 1px 2px rgba(0, 0, 0, 0.3));\n",
              "      fill: #FFFFFF;\n",
              "    }\n",
              "  </style>\n",
              "\n",
              "      <script>\n",
              "        const buttonEl =\n",
              "          document.querySelector('#df-31c6664a-8e0a-4642-9739-0b5d1ca642e1 button.colab-df-convert');\n",
              "        buttonEl.style.display =\n",
              "          google.colab.kernel.accessAllowed ? 'block' : 'none';\n",
              "\n",
              "        async function convertToInteractive(key) {\n",
              "          const element = document.querySelector('#df-31c6664a-8e0a-4642-9739-0b5d1ca642e1');\n",
              "          const dataTable =\n",
              "            await google.colab.kernel.invokeFunction('convertToInteractive',\n",
              "                                                     [key], {});\n",
              "          if (!dataTable) return;\n",
              "\n",
              "          const docLinkHtml = 'Like what you see? Visit the ' +\n",
              "            '<a target=\"_blank\" href=https://colab.research.google.com/notebooks/data_table.ipynb>data table notebook</a>'\n",
              "            + ' to learn more about interactive tables.';\n",
              "          element.innerHTML = '';\n",
              "          dataTable['output_type'] = 'display_data';\n",
              "          await google.colab.output.renderOutput(dataTable, element);\n",
              "          const docLink = document.createElement('div');\n",
              "          docLink.innerHTML = docLinkHtml;\n",
              "          element.appendChild(docLink);\n",
              "        }\n",
              "      </script>\n",
              "    </div>\n",
              "  </div>\n",
              "  "
            ]
          },
          "metadata": {},
          "execution_count": 289
        }
      ],
      "source": [
        "# Some info about the numerical columns\n",
        "df.describe()"
      ]
    },
    {
      "cell_type": "markdown",
      "metadata": {
        "id": "rIiafnXpu2O8"
      },
      "source": [
        "**The table above shows that variables have different ranges. It is better to implement scaling in the preprocessing step**."
      ]
    },
    {
      "cell_type": "code",
      "execution_count": 290,
      "metadata": {
        "colab": {
          "base_uri": "https://localhost:8080/"
        },
        "id": "YNwE5mp20tkK",
        "outputId": "4a0d4ca8-ff10-40c5-fb17-af7e9ebb1eb4"
      },
      "outputs": [
        {
          "output_type": "execute_result",
          "data": {
            "text/plain": [
              "0"
            ]
          },
          "metadata": {},
          "execution_count": 290
        }
      ],
      "source": [
        "# Check for duplicates in the dataset\n",
        "df.duplicated().sum()"
      ]
    },
    {
      "cell_type": "markdown",
      "source": [
        "**No duplicated samples in the dataframe**"
      ],
      "metadata": {
        "id": "m3K8sbNwezXu"
      }
    },
    {
      "cell_type": "code",
      "source": [
        "#check for null values\n",
        "df.isnull().sum()"
      ],
      "metadata": {
        "colab": {
          "base_uri": "https://localhost:8080/"
        },
        "id": "Q5NY9XRSeXEt",
        "outputId": "d6eb7e2a-0f28-42d7-df9b-307361c1e803"
      },
      "execution_count": 291,
      "outputs": [
        {
          "output_type": "execute_result",
          "data": {
            "text/plain": [
              "Density    0\n",
              "BodyFat    0\n",
              "Age        0\n",
              "Weight     0\n",
              "Height     0\n",
              "Neck       0\n",
              "Chest      0\n",
              "Abdomen    0\n",
              "Hip        0\n",
              "Thigh      0\n",
              "Knee       0\n",
              "Ankle      0\n",
              "Biceps     0\n",
              "Forearm    0\n",
              "Wrist      0\n",
              "dtype: int64"
            ]
          },
          "metadata": {},
          "execution_count": 291
        }
      ]
    },
    {
      "cell_type": "markdown",
      "source": [
        "**No Missing values in the dataset's variables**"
      ],
      "metadata": {
        "id": "KpVykXizea1K"
      }
    },
    {
      "cell_type": "markdown",
      "source": [
        "**Ploting the relationships between the variable**  \n",
        "\n",
        "\n",
        "**This helps in visualizing the relationship between pair of numerical variables (Independent vs Dependent). The magenta line represents the best-fit regression line.**"
      ],
      "metadata": {
        "id": "90f-Zhq6gZbH"
      }
    },
    {
      "cell_type": "code",
      "execution_count": 292,
      "metadata": {
        "id": "S5fvaql2DtBh"
      },
      "outputs": [],
      "source": [
        "# Plot pair-plots for checking out the dependcy between features\n",
        "#importlib.reload(matplotlib); importlib.reload(plt); importlib.reload(sns)\n",
        "#sns.pairplot(df, kind='reg', plot_kws={'line_kws':{'color':'magenta'}, 'scatter_kws': {'alpha': 0.25}})\n",
        "#plt.tight_layout()\n",
        "#plt.show()"
      ]
    },
    {
      "cell_type": "markdown",
      "source": [
        "**As seem in the pairplot figure, Density and Body Fat have linear relationship as the projected points lie on along the best-fit regression line. Hence, a simple model (function) can map a value of independent variable to target value with minimum error.**"
      ],
      "metadata": {
        "id": "CN4gHHJUxbgj"
      }
    },
    {
      "cell_type": "code",
      "source": [
        "# Check for outliers in each variables by ploting the box plot\n",
        "plt.figure(figsize=(12,12), facecolor='white')\n",
        "sns.boxplot(data=df)\n",
        "plt.grid()\n",
        "plt.show()"
      ],
      "metadata": {
        "colab": {
          "base_uri": "https://localhost:8080/",
          "height": 966
        },
        "id": "_jt1nuGNYshQ",
        "outputId": "0f631ccd-47f2-486b-c4fd-64e3a1916ec7"
      },
      "execution_count": 293,
      "outputs": [
        {
          "output_type": "display_data",
          "data": {
            "text/plain": [
              "<Figure size 1200x1200 with 1 Axes>"
            ],
            "image/png": "[encoded data removed]"
          },
          "metadata": {}
        }
      ]
    },
    {
      "cell_type": "markdown",
      "source": [
        "**Pre-processing: Converting the height and weight to SI unit to have the same unit system like other features which are in cm**"
      ],
      "metadata": {
        "id": "3mbA49Uce_rl"
      }
    },
    {
      "cell_type": "code",
      "execution_count": 294,
      "metadata": {
        "id": "dMygbTLuIZmi"
      },
      "outputs": [],
      "source": [
        "df['Weight'] /= 2.2 # converting to kg\n",
        "df['Height'] *= 2.5 # converting to cm\n",
        "df['Height'] /= 100 # converting to m\n",
        "\n",
        "# rounding the value to 1 decimal\n",
        "df['Weight'] = round(df['Weight'], 2)\n",
        "df['Height'] = round(df['Height'], 2)"
      ]
    },
    {
      "cell_type": "markdown",
      "source": [
        "**Visualising the linear relationship degree between the variables by using heatmap based on pearson correlation. Numbers falls in the range (-1, 1). Zero value means no correlation exists. By looking on Body Fat row (or column), it shows a variety of correlations between Body Fat and input features (i.e the predictors), the strongest relation is with Density feature.**\n",
        "\n",
        "**Also, the heatmap shows multicolliearity exists between predictors. This could make the model output swingy, more biased and hard to interpret. This will be considered in the modelling part.**"
      ],
      "metadata": {
        "id": "7Y2FsBPi501t"
      }
    },
    {
      "cell_type": "code",
      "execution_count": 295,
      "metadata": {
        "id": "87d64eOt0_1b",
        "colab": {
          "base_uri": "https://localhost:8080/",
          "height": 1000
        },
        "outputId": "f398de6b-0faa-4509-faf2-f63b7f2946f0"
      },
      "outputs": [
        {
          "output_type": "display_data",
          "data": {
            "text/plain": [
              "<Figure size 1200x1200 with 2 Axes>"
            ],
            "image/png": "[encoded data removed]"
          },
          "metadata": {}
        }
      ],
      "source": [
        "plt.figure(figsize=(12,12))\n",
        "sns.heatmap(df.corr(method ='pearson'),annot=True,linewidth=0.5,fmt=\"0.2f\", cmap = 'coolwarm')\n",
        "plt.show()"
      ]
    },
    {
      "cell_type": "code",
      "source": [
        "# check the Mutual Information (MI) score between features and BodyFat variable\n",
        "from sklearn.feature_selection import mutual_info_regression\n",
        "features = ['Density', 'Age', 'Weight', 'Height', 'Neck', 'Chest', 'Abdomen', 'Hip', 'Thigh', 'Knee','Ankle', 'Biceps', 'Forearm', 'Wrist']\n",
        "target_var = ['BodyFat']\n",
        "discrete_vars = [False, True, False, False, False, False, False, False, False, False, False, False, False, False]\n",
        "mi = mutual_info_regression(df.drop(target_var, axis = 1), df.drop(features, axis = 1), discrete_features=discrete_vars, random_state=42)\n",
        "mi = pd.Series(mi)\n",
        "mi.index = features\n",
        "ax = mi.sort_values(ascending=False).plot.bar(figsize=(10, 5))\n",
        "for p in ax.patches:\n",
        "    ax.annotate(str(round(p.get_height(), 2)), (p.get_x() * 1.01, p.get_height() * 1.01))\n",
        "plt.ylabel('Mutual Information')\n",
        "plt.title(\"Mutual information between predictors and target\")\n",
        "plt.show()"
      ],
      "metadata": {
        "colab": {
          "base_uri": "https://localhost:8080/",
          "height": 568
        },
        "id": "DRp9O45Y0rBK",
        "outputId": "9c109538-dc76-40ec-ab5d-4e377f376b72"
      },
      "execution_count": 296,
      "outputs": [
        {
          "output_type": "stream",
          "name": "stderr",
          "text": [
            "/usr/local/lib/python3.7/dist-packages/sklearn/utils/validation.py:993: DataConversionWarning: A column-vector y was passed when a 1d array was expected. Please change the shape of y to (n_samples, ), for example using ravel().\n",
            "  y = column_or_1d(y, warn=True)\n"
          ]
        },
        {
          "output_type": "display_data",
          "data": {
            "text/plain": [
              "<Figure size 1000x500 with 1 Axes>"
            ],
            "image/png": "[encoded data removed]"
          },
          "metadata": {}
        }
      ]
    },
    {
      "cell_type": "markdown",
      "source": [
        "**Mutual Information captures how much a variable can tell info about another variable- typically a taeget variable-. The above figure shows that Density can tell alot about Body Fat, while height tells hints nothing about Body Fat**"
      ],
      "metadata": {
        "id": "nM0Wpl2dIGM-"
      }
    },
    {
      "cell_type": "markdown",
      "source": [
        "# **Data Cleaning**"
      ],
      "metadata": {
        "id": "FG2tBSNHunN6"
      }
    },
    {
      "cell_type": "markdown",
      "source": [
        "**Removing the outliers (two options):**\n",
        "\n",
        "**1. based oon Z-score value**\n",
        "\n",
        "**2. based on stadanrd deviation**\n",
        "\n",
        "**Choosing the second option to preserve more examples since the dataset is small**"
      ],
      "metadata": {
        "id": "LEPpvs0C8hE9"
      }
    },
    {
      "cell_type": "code",
      "execution_count": 297,
      "metadata": {
        "id": "meLV47yf4-qh",
        "colab": {
          "base_uri": "https://localhost:8080/"
        },
        "outputId": "079c1411-76a0-4909-eef9-82f3c282f971"
      },
      "outputs": [
        {
          "output_type": "stream",
          "name": "stdout",
          "text": [
            "     Density  BodyFat   Age    Weight  Height     Neck     Chest  Abdomen  \\\n",
            "215   0.9950  47.5000  51.0   99.5500    1.60  41.2000  119.8000   122.10   \n",
            "215   0.9979  47.5000  51.0   99.5500    1.60  41.2000  119.8000   122.10   \n",
            "38    1.0202  35.2000  46.0  165.0700    1.81  51.2000  136.2000   148.10   \n",
            "40    1.0217  34.5000  45.0  119.4300    1.72  43.2000  128.3000   126.20   \n",
            "41    1.0250  32.9000  44.0   93.1800    0.74  36.6000  106.0000   104.30   \n",
            "38    1.0202  35.2000  46.0  115.4625    1.81  51.2000  136.2000   148.10   \n",
            "44    1.0814   7.7000  39.0   56.9300    1.70  31.5000   85.1000    76.00   \n",
            "105   1.0578  18.0000  43.0   75.2300    1.71  31.1000   93.1000    87.30   \n",
            "38    1.0202  35.2000  46.0  115.4625    1.81  43.9625  136.2000   148.10   \n",
            "40    1.0217  34.5000  45.0  115.4625    1.72  43.2000  128.3000   126.20   \n",
            "38    1.0202  35.2000  46.0  115.4625    1.81  43.9625  121.9125   148.10   \n",
            "40    1.0217  34.5000  45.0  115.4625    1.72  43.2000  121.9125   126.20   \n",
            "215   0.9979  44.5375  51.0   99.5500    1.60  41.2000  119.8000   122.10   \n",
            "34    1.0263  32.3000  41.0  112.3900    1.84  42.1000  117.0000   115.60   \n",
            "38    1.0202  35.2000  46.0  115.4625    1.81  43.9625  121.9125   121.45   \n",
            "40    1.0217  34.5000  45.0  115.4625    1.72  43.2000  121.9125   121.45   \n",
            "38    1.0202  35.2000  46.0  115.4625    1.81  43.9625  121.9125   121.45   \n",
            "40    1.0217  34.5000  45.0  115.4625    1.72  43.2000  121.9125   121.45   \n",
            "151   1.0542  19.6000  26.0  109.8900    1.86  41.8000  108.3000   102.90   \n",
            "168   1.0180  34.3000  35.0  103.7500    1.74  40.4000  114.9000   115.90   \n",
            "38    1.0202  35.2000  46.0  115.4625    1.81  43.9625  121.9125   121.45   \n",
            "191   1.0140  38.1000  42.0  111.0200    1.90  41.8000  115.2000   113.70   \n",
            "243   1.0256  32.6000  67.0  103.5200    1.82  41.3000  115.8000   113.40   \n",
            "30    1.0716  11.9000  32.0   82.7300    1.84  38.7000  100.5000    88.70   \n",
            "38    1.0202  35.2000  46.0  115.4625    1.81  43.9625  121.9125   121.45   \n",
            "85    1.0386  26.6000  67.0   75.9100    1.69  36.5000   98.9000    89.70   \n",
            "38    1.0202  35.2000  46.0  115.4625    1.81  43.9625  121.9125   121.45   \n",
            "44    1.0814   7.7000  39.0   56.9300    1.70  31.8625   85.1000    76.00   \n",
            "158   1.0704  12.5000  30.0   62.0500    1.72  35.9000   88.7000    76.60   \n",
            "174   1.0414  25.3000  36.0  103.0700    1.79  41.5000  115.3000   108.80   \n",
            "205   1.0610  16.6000  44.0   94.8900    1.82  41.9000  105.6000    96.30   \n",
            "225   1.0703  12.5000  55.0   57.5000    1.67  33.4000   88.8000    78.20   \n",
            "38    1.0202  35.2000  46.0  115.4625    1.81  43.9625  121.9125   121.45   \n",
            "40    1.0217  34.5000  45.0  115.4625    1.72  43.2000  121.9125   121.45   \n",
            "225   1.0703  12.5000  55.0   57.5000    1.67  33.4000   88.8000    78.20   \n",
            "251   1.0271  31.9000  74.0   94.3200    1.75  40.8000  112.4000   108.50   \n",
            "\n",
            "          Hip   Thigh   Knee  Ankle   Biceps  Forearm  Wrist  \n",
            "215  112.8000  62.500  36.90   23.6  34.7000    29.10   18.4  \n",
            "215  112.8000  62.500  36.90   23.6  34.7000    29.10   18.4  \n",
            "38   147.7000  87.300  49.10   29.6  45.0000    29.00   21.4  \n",
            "40   125.6000  72.500  39.60   26.6  36.4000    32.70   21.4  \n",
            "41   115.5000  70.600  42.50   23.7  33.6000    28.70   17.4  \n",
            "38   147.7000  87.300  49.10   29.6  45.0000    29.00   21.4  \n",
            "44    88.2000  50.000  34.70   21.0  26.1000    23.10   16.1  \n",
            "105   96.6000  54.700  39.00   24.8  31.0000    29.40   18.8  \n",
            "38   147.7000  87.300  49.10   29.6  45.0000    29.00   21.4  \n",
            "40   125.6000  72.500  39.60   26.6  36.4000    32.70   21.4  \n",
            "38   147.7000  87.300  49.10   29.6  45.0000    29.00   21.4  \n",
            "40   125.6000  72.500  39.60   26.6  36.4000    32.70   21.4  \n",
            "215  112.8000  62.500  36.90   23.6  34.7000    29.10   18.4  \n",
            "34   116.1000  71.200  43.30   26.3  37.3000    31.70   19.7  \n",
            "38   147.7000  87.300  49.10   29.6  45.0000    29.00   21.4  \n",
            "40   125.6000  72.500  39.60   26.6  36.4000    32.70   21.4  \n",
            "38   115.5625  87.300  49.10   29.6  45.0000    29.00   21.4  \n",
            "40   115.5625  72.500  39.60   26.6  36.4000    32.70   21.4  \n",
            "151  114.4000  72.900  43.50   25.1  38.5000    33.80   19.6  \n",
            "168  111.9000  74.400  40.60   24.0  36.1000    31.80   18.8  \n",
            "38   115.5625  71.875  49.10   29.6  45.0000    29.00   21.4  \n",
            "191  112.4000  68.500  45.00   25.5  37.1000    31.20   19.9  \n",
            "243  109.8000  65.600  46.00   25.4  35.3000    29.80   19.5  \n",
            "30    99.8000  57.500  38.70   33.9  32.5000    27.70   18.4  \n",
            "38   115.5625  71.875  44.35   29.6  45.0000    29.00   21.4  \n",
            "85    96.2000  54.700  37.80   33.7  32.4000    27.70   18.2  \n",
            "38   115.5625  71.875  44.35   27.0  45.0000    29.00   21.4  \n",
            "44    88.2000  50.000  34.70   21.0  26.1000    23.10   16.1  \n",
            "158   89.8000  50.100  34.80   21.8  27.0000    34.90   16.9  \n",
            "174  114.4000  69.200  42.40   24.0  35.4000    21.00   20.1  \n",
            "205  102.0000  63.300  39.80   24.1  37.3000    23.10   19.4  \n",
            "225   87.5000  50.800  33.00   19.7  25.3000    22.00   15.8  \n",
            "38   115.5625  71.875  44.35   27.0  40.5125    29.00   21.4  \n",
            "40   115.5625  71.875  39.60   26.6  36.4000    32.70   21.4  \n",
            "225   87.5000  50.800  33.00   19.7  25.3000    23.25   15.8  \n",
            "251  107.1000  59.300  42.20   24.6  33.7000    30.00   20.9  \n",
            "\n",
            " Number of Samples with outlier 36\n"
          ]
        }
      ],
      "source": [
        "# Method 1 Removing the ouliers using standard deviation method\n",
        "'''\n",
        "z = np.abs(stats.zscore(df, axis=0))\n",
        "# Only keep rows in dataframe with all z-scores less than absolute value of 3 \n",
        "df = df[(z<3).all(axis=1)]\n",
        "'''\n",
        "\n",
        "## Method 2: Clip the ouliers with acceptable value (Q1 - 1.5 * IQR for lower ...\n",
        "##  limit or  Q3 + 1.5 * IQR for upper limit)\n",
        "\n",
        "outlier_samples_list = []\n",
        "for col in df.columns:\n",
        "  Q3 = np.quantile(df[col], 0.75)\n",
        "  Q1 = np.quantile(df[col], 0.25)\n",
        "  IQR = Q3 - Q1\n",
        "  #col_values = df.loc[:, col]\n",
        "  for i in range(df[col].shape[0]):\n",
        "    if df.loc[i, col] > (Q3 + 1.5 * IQR):\n",
        "      outlier_samples_list.append(df.loc[i, :, ])\n",
        "      df.loc[i, col] = (Q3 + 1.5 * IQR)\n",
        "    elif df.loc[i, col] < (Q1 - 1.5 * IQR):\n",
        "      outlier_samples_list.append(df.loc[i, :, ])\n",
        "      df.loc[i, col] = (Q1 - 1.5 * IQR)\n",
        "outlier_samples_df = pd.DataFrame(outlier_samples_list)\n",
        "outlier_samples_df.drop_duplicates(inplace = True)\n",
        "\n",
        "print(outlier_samples_df)\n",
        "print('\\n Number of Samples with outlier', outlier_samples_df.shape[0])"
      ]
    },
    {
      "cell_type": "code",
      "execution_count": 298,
      "metadata": {
        "id": "MvYqJ6Yx0cSG"
      },
      "outputs": [],
      "source": [
        "# Removing samples with Body Fat < 2% since it is unrealistic (i.e: error in input data)\n",
        "df_clean = df[df[\"BodyFat\"]>2]"
      ]
    },
    {
      "cell_type": "code",
      "execution_count": 299,
      "metadata": {
        "id": "kQplZlJBdQhd",
        "colab": {
          "base_uri": "https://localhost:8080/",
          "height": 365
        },
        "outputId": "0f7014d7-4514-4f7d-9487-883f6097e665"
      },
      "outputs": [
        {
          "output_type": "execute_result",
          "data": {
            "text/plain": [
              "          Density     BodyFat         Age      Weight     Height        Neck  \\\n",
              "count  250.000000  250.000000  250.000000  250.000000  250.00000  250.000000   \n",
              "mean     1.055201   19.289350   44.944000   81.321260    1.75784   38.000350   \n",
              "std      0.018570    8.191438   12.633101   12.242881    0.06637    2.281767   \n",
              "min      0.997900    3.000000   22.000000   56.820000    1.56000   31.862500   \n",
              "25%      1.041400   12.600000   36.000000   72.445000    1.71000   36.400000   \n",
              "50%      1.054800   19.250000   43.500000   80.340000    1.75500   38.000000   \n",
              "75%      1.070050   25.300000   54.000000   89.550000    1.81000   39.475000   \n",
              "max      1.099100   44.537500   81.000000  115.462500    1.94000   43.962500   \n",
              "\n",
              "           Chest     Abdomen         Hip       Thigh        Knee       Ankle  \\\n",
              "count  250.00000  250.000000  250.000000  250.000000  250.000000  250.000000   \n",
              "mean   100.86770   92.590600   99.836350   59.414000   38.597800   23.053600   \n",
              "std      8.05556   10.170225    6.360306    4.886689    2.296152    1.396009   \n",
              "min     83.40000   70.400000   85.300000   49.300000   33.000000   19.100000   \n",
              "25%     94.67500   85.225000   95.600000   56.100000   37.100000   22.000000   \n",
              "50%     99.70000   91.050000   99.300000   59.050000   38.500000   22.800000   \n",
              "75%    105.52500   99.575000  103.575000   62.450000   39.975000   24.000000   \n",
              "max    121.91250  121.450000  115.562500   71.875000   44.350000   27.000000   \n",
              "\n",
              "           Biceps     Forearm       Wrist  \n",
              "count  250.000000  250.000000  250.000000  \n",
              "mean    32.303650   28.703000   18.234400  \n",
              "std      2.917935    1.945699    0.904305  \n",
              "min     25.300000   23.250000   15.800000  \n",
              "25%     30.300000   27.300000   17.600000  \n",
              "50%     32.100000   28.750000   18.300000  \n",
              "75%     34.375000   30.000000   18.800000  \n",
              "max     40.512500   34.050000   20.600000  "
            ],
            "text/html": [
              "\n",
              "  <div id=\"df-a71d51d7-8ab5-4ee5-bac5-a6333b3bb8f8\">\n",
              "    <div class=\"colab-df-container\">\n",
              "      <div>\n",
              "<style scoped>\n",
              "    .dataframe tbody tr th:only-of-type {\n",
              "        vertical-align: middle;\n",
              "    }\n",
              "\n",
              "    .dataframe tbody tr th {\n",
              "        vertical-align: top;\n",
              "    }\n",
              "\n",
              "    .dataframe thead th {\n",
              "        text-align: right;\n",
              "    }\n",
              "</style>\n",
              "<table border=\"1\" class=\"dataframe\">\n",
              "  <thead>\n",
              "    <tr style=\"text-align: right;\">\n",
              "      <th></th>\n",
              "      <th>Density</th>\n",
              "      <th>BodyFat</th>\n",
              "      <th>Age</th>\n",
              "      <th>Weight</th>\n",
              "      <th>Height</th>\n",
              "      <th>Neck</th>\n",
              "      <th>Chest</th>\n",
              "      <th>Abdomen</th>\n",
              "      <th>Hip</th>\n",
              "      <th>Thigh</th>\n",
              "      <th>Knee</th>\n",
              "      <th>Ankle</th>\n",
              "      <th>Biceps</th>\n",
              "      <th>Forearm</th>\n",
              "      <th>Wrist</th>\n",
              "    </tr>\n",
              "  </thead>\n",
              "  <tbody>\n",
              "    <tr>\n",
              "      <th>count</th>\n",
              "      <td>250.000000</td>\n",
              "      <td>250.000000</td>\n",
              "      <td>250.000000</td>\n",
              "      <td>250.000000</td>\n",
              "      <td>250.00000</td>\n",
              "      <td>250.000000</td>\n",
              "      <td>250.00000</td>\n",
              "      <td>250.000000</td>\n",
              "      <td>250.000000</td>\n",
              "      <td>250.000000</td>\n",
              "      <td>250.000000</td>\n",
              "      <td>250.000000</td>\n",
              "      <td>250.000000</td>\n",
              "      <td>250.000000</td>\n",
              "      <td>250.000000</td>\n",
              "    </tr>\n",
              "    <tr>\n",
              "      <th>mean</th>\n",
              "      <td>1.055201</td>\n",
              "      <td>19.289350</td>\n",
              "      <td>44.944000</td>\n",
              "      <td>81.321260</td>\n",
              "      <td>1.75784</td>\n",
              "      <td>38.000350</td>\n",
              "      <td>100.86770</td>\n",
              "      <td>92.590600</td>\n",
              "      <td>99.836350</td>\n",
              "      <td>59.414000</td>\n",
              "      <td>38.597800</td>\n",
              "      <td>23.053600</td>\n",
              "      <td>32.303650</td>\n",
              "      <td>28.703000</td>\n",
              "      <td>18.234400</td>\n",
              "    </tr>\n",
              "    <tr>\n",
              "      <th>std</th>\n",
              "      <td>0.018570</td>\n",
              "      <td>8.191438</td>\n",
              "      <td>12.633101</td>\n",
              "      <td>12.242881</td>\n",
              "      <td>0.06637</td>\n",
              "      <td>2.281767</td>\n",
              "      <td>8.05556</td>\n",
              "      <td>10.170225</td>\n",
              "      <td>6.360306</td>\n",
              "      <td>4.886689</td>\n",
              "      <td>2.296152</td>\n",
              "      <td>1.396009</td>\n",
              "      <td>2.917935</td>\n",
              "      <td>1.945699</td>\n",
              "      <td>0.904305</td>\n",
              "    </tr>\n",
              "    <tr>\n",
              "      <th>min</th>\n",
              "      <td>0.997900</td>\n",
              "      <td>3.000000</td>\n",
              "      <td>22.000000</td>\n",
              "      <td>56.820000</td>\n",
              "      <td>1.56000</td>\n",
              "      <td>31.862500</td>\n",
              "      <td>83.40000</td>\n",
              "      <td>70.400000</td>\n",
              "      <td>85.300000</td>\n",
              "      <td>49.300000</td>\n",
              "      <td>33.000000</td>\n",
              "      <td>19.100000</td>\n",
              "      <td>25.300000</td>\n",
              "      <td>23.250000</td>\n",
              "      <td>15.800000</td>\n",
              "    </tr>\n",
              "    <tr>\n",
              "      <th>25%</th>\n",
              "      <td>1.041400</td>\n",
              "      <td>12.600000</td>\n",
              "      <td>36.000000</td>\n",
              "      <td>72.445000</td>\n",
              "      <td>1.71000</td>\n",
              "      <td>36.400000</td>\n",
              "      <td>94.67500</td>\n",
              "      <td>85.225000</td>\n",
              "      <td>95.600000</td>\n",
              "      <td>56.100000</td>\n",
              "      <td>37.100000</td>\n",
              "      <td>22.000000</td>\n",
              "      <td>30.300000</td>\n",
              "      <td>27.300000</td>\n",
              "      <td>17.600000</td>\n",
              "    </tr>\n",
              "    <tr>\n",
              "      <th>50%</th>\n",
              "      <td>1.054800</td>\n",
              "      <td>19.250000</td>\n",
              "      <td>43.500000</td>\n",
              "      <td>80.340000</td>\n",
              "      <td>1.75500</td>\n",
              "      <td>38.000000</td>\n",
              "      <td>99.70000</td>\n",
              "      <td>91.050000</td>\n",
              "      <td>99.300000</td>\n",
              "      <td>59.050000</td>\n",
              "      <td>38.500000</td>\n",
              "      <td>22.800000</td>\n",
              "      <td>32.100000</td>\n",
              "      <td>28.750000</td>\n",
              "      <td>18.300000</td>\n",
              "    </tr>\n",
              "    <tr>\n",
              "      <th>75%</th>\n",
              "      <td>1.070050</td>\n",
              "      <td>25.300000</td>\n",
              "      <td>54.000000</td>\n",
              "      <td>89.550000</td>\n",
              "      <td>1.81000</td>\n",
              "      <td>39.475000</td>\n",
              "      <td>105.52500</td>\n",
              "      <td>99.575000</td>\n",
              "      <td>103.575000</td>\n",
              "      <td>62.450000</td>\n",
              "      <td>39.975000</td>\n",
              "      <td>24.000000</td>\n",
              "      <td>34.375000</td>\n",
              "      <td>30.000000</td>\n",
              "      <td>18.800000</td>\n",
              "    </tr>\n",
              "    <tr>\n",
              "      <th>max</th>\n",
              "      <td>1.099100</td>\n",
              "      <td>44.537500</td>\n",
              "      <td>81.000000</td>\n",
              "      <td>115.462500</td>\n",
              "      <td>1.94000</td>\n",
              "      <td>43.962500</td>\n",
              "      <td>121.91250</td>\n",
              "      <td>121.450000</td>\n",
              "      <td>115.562500</td>\n",
              "      <td>71.875000</td>\n",
              "      <td>44.350000</td>\n",
              "      <td>27.000000</td>\n",
              "      <td>40.512500</td>\n",
              "      <td>34.050000</td>\n",
              "      <td>20.600000</td>\n",
              "    </tr>\n",
              "  </tbody>\n",
              "</table>\n",
              "</div>\n",
              "      <button class=\"colab-df-convert\" onclick=\"convertToInteractive('df-a71d51d7-8ab5-4ee5-bac5-a6333b3bb8f8')\"\n",
              "              title=\"Convert this dataframe to an interactive table.\"\n",
              "              style=\"display:none;\">\n",
              "        \n",
              "  <svg xmlns=\"http://www.w3.org/2000/svg\" height=\"24px\"viewBox=\"0 0 24 24\"\n",
              "       width=\"24px\">\n",
              "    <path d=\"M0 0h24v24H0V0z\" fill=\"none\"/>\n",
              "    <path d=\"M18.56 5.44l.94 2.06.94-2.06 2.06-.94-2.06-.94-.94-2.06-.94 2.06-2.06.94zm-11 1L8.5 8.5l.94-2.06 2.06-.94-2.06-.94L8.5 2.5l-.94 2.06-2.06.94zm10 10l.94 2.06.94-2.06 2.06-.94-2.06-.94-.94-2.06-.94 2.06-2.06.94z\"/><path d=\"M17.41 7.96l-1.37-1.37c-.4-.4-.92-.59-1.43-.59-.52 0-1.04.2-1.43.59L10.3 9.45l-7.72 7.72c-.78.78-.78 2.05 0 2.83L4 21.41c.39.39.9.59 1.41.59.51 0 1.02-.2 1.41-.59l7.78-7.78 2.81-2.81c.8-.78.8-2.07 0-2.86zM5.41 20L4 18.59l7.72-7.72 1.47 1.35L5.41 20z\"/>\n",
              "  </svg>\n",
              "      </button>\n",
              "      \n",
              "  <style>\n",
              "    .colab-df-container {\n",
              "      display:flex;\n",
              "      flex-wrap:wrap;\n",
              "      gap: 12px;\n",
              "    }\n",
              "\n",
              "    .colab-df-convert {\n",
              "      background-color: #E8F0FE;\n",
              "      border: none;\n",
              "      border-radius: 50%;\n",
              "      cursor: pointer;\n",
              "      display: none;\n",
              "      fill: #1967D2;\n",
              "      height: 32px;\n",
              "      padding: 0 0 0 0;\n",
              "      width: 32px;\n",
              "    }\n",
              "\n",
              "    .colab-df-convert:hover {\n",
              "      background-color: #E2EBFA;\n",
              "      box-shadow: 0px 1px 2px rgba(60, 64, 67, 0.3), 0px 1px 3px 1px rgba(60, 64, 67, 0.15);\n",
              "      fill: #174EA6;\n",
              "    }\n",
              "\n",
              "    [theme=dark] .colab-df-convert {\n",
              "      background-color: #3B4455;\n",
              "      fill: #D2E3FC;\n",
              "    }\n",
              "\n",
              "    [theme=dark] .colab-df-convert:hover {\n",
              "      background-color: #434B5C;\n",
              "      box-shadow: 0px 1px 3px 1px rgba(0, 0, 0, 0.15);\n",
              "      filter: drop-shadow(0px 1px 2px rgba(0, 0, 0, 0.3));\n",
              "      fill: #FFFFFF;\n",
              "    }\n",
              "  </style>\n",
              "\n",
              "      <script>\n",
              "        const buttonEl =\n",
              "          document.querySelector('#df-a71d51d7-8ab5-4ee5-bac5-a6333b3bb8f8 button.colab-df-convert');\n",
              "        buttonEl.style.display =\n",
              "          google.colab.kernel.accessAllowed ? 'block' : 'none';\n",
              "\n",
              "        async function convertToInteractive(key) {\n",
              "          const element = document.querySelector('#df-a71d51d7-8ab5-4ee5-bac5-a6333b3bb8f8');\n",
              "          const dataTable =\n",
              "            await google.colab.kernel.invokeFunction('convertToInteractive',\n",
              "                                                     [key], {});\n",
              "          if (!dataTable) return;\n",
              "\n",
              "          const docLinkHtml = 'Like what you see? Visit the ' +\n",
              "            '<a target=\"_blank\" href=https://colab.research.google.com/notebooks/data_table.ipynb>data table notebook</a>'\n",
              "            + ' to learn more about interactive tables.';\n",
              "          element.innerHTML = '';\n",
              "          dataTable['output_type'] = 'display_data';\n",
              "          await google.colab.output.renderOutput(dataTable, element);\n",
              "          const docLink = document.createElement('div');\n",
              "          docLink.innerHTML = docLinkHtml;\n",
              "          element.appendChild(docLink);\n",
              "        }\n",
              "      </script>\n",
              "    </div>\n",
              "  </div>\n",
              "  "
            ]
          },
          "metadata": {},
          "execution_count": 299
        }
      ],
      "source": [
        "# Check the cleaned dataset\n",
        "df_clean.describe()"
      ]
    },
    {
      "cell_type": "markdown",
      "source": [
        "**Some mean values have changed significantly after data cleaning like weight 178.92 (before data cleaning) 81.32 (after data cleaning)**"
      ],
      "metadata": {
        "id": "4CppHFPf-dOr"
      }
    },
    {
      "cell_type": "code",
      "execution_count": 300,
      "metadata": {
        "id": "Mg7F8Afhnhxr",
        "colab": {
          "base_uri": "https://localhost:8080/",
          "height": 54
        },
        "outputId": "41a6ad41-9d1a-452a-e2d6-91cc5f623acb"
      },
      "outputs": [
        {
          "output_type": "display_data",
          "data": {
            "text/plain": [
              "<Figure size 1200x1200 with 1 Axes>"
            ],
            "image/png": "[encoded data removed]"
          },
          "metadata": {}
        }
      ],
      "source": [
        "# Check variables after removing the outlier values (for removing outliers using standard deviation method)\n",
        "plt.figure(figsize=(12,12), facecolor='white')\n",
        "sns.boxplot(data=df_clean)\n",
        "plt.grid()\n",
        "plt.show()"
      ]
    },
    {
      "cell_type": "code",
      "execution_count": 301,
      "metadata": {
        "id": "cb_HOfk-5XFW",
        "colab": {
          "base_uri": "https://localhost:8080/",
          "height": 1000
        },
        "outputId": "bf1eb15b-c9ff-48ac-da69-32b9aafa143e"
      },
      "outputs": [
        {
          "output_type": "execute_result",
          "data": {
            "text/plain": [
              "'\\nplt.figure(figsize=(12,12))\\nsns.heatmap(df_clean.corr(method =\\'pearson\\'),annot=True,linewidth=0.5,fmt=\"0.2f\", cmap = \\'coolwarm\\')\\nplt.show()\\n'"
            ],
            "application/vnd.google.colaboratory.intrinsic+json": {
              "type": "string"
            }
          },
          "metadata": {},
          "execution_count": 301
        }
      ],
      "source": [
        "# Check collinearity after removing outlier values (for removing outliers using standard deviation method)\n",
        "'''\n",
        "plt.figure(figsize=(12,12))\n",
        "sns.heatmap(df_clean.corr(method ='pearson'),annot=True,linewidth=0.5,fmt=\"0.2f\", cmap = 'coolwarm')\n",
        "plt.show()\n",
        "'''"
      ]
    },
    {
      "cell_type": "markdown",
      "source": [
        "# ML Model"
      ],
      "metadata": {
        "id": "T6bj1QIgZQhP"
      }
    },
    {
      "cell_type": "code",
      "execution_count": 302,
      "metadata": {
        "id": "a0tRO0OQSf1c"
      },
      "outputs": [],
      "source": [
        "# Removing the target variable\n",
        "X = df_clean.drop(['BodyFat'], axis = 1)\n",
        "\n",
        "# Assign the target variable (i.e BodyFat) to Y\n",
        "Y = df_clean['BodyFat']"
      ]
    },
    {
      "cell_type": "code",
      "execution_count": 303,
      "metadata": {
        "id": "cHG6jpz8zPOI"
      },
      "outputs": [],
      "source": [
        "# convet Y from dataframe data type to array\n",
        "Y = Y.to_numpy().reshape(-1,1)"
      ]
    },
    {
      "cell_type": "markdown",
      "source": [
        "**Model 1: Implementing Linear Model with Density Feature Only since the EDA step has shown very high correlation and high mutual information between Density and BodyFat**"
      ],
      "metadata": {
        "id": "MZUzfDOYEXiC"
      }
    },
    {
      "cell_type": "code",
      "source": [
        "X = df_clean.drop(['BodyFat', 'Height', 'Ankle', 'Age', 'Wrist', 'Forearm', 'Neck', 'Biceps', 'Knee', 'Thigh', 'Weight', 'Hip', 'Chest','Abdomen'], axis = 1)\n"
      ],
      "metadata": {
        "id": "VX8KE8h25irg"
      },
      "execution_count": 304,
      "outputs": []
    },
    {
      "cell_type": "code",
      "source": [
        "X.describe()"
      ],
      "metadata": {
        "colab": {
          "base_uri": "https://localhost:8080/",
          "height": 301
        },
        "id": "PJvOtG1vDtnT",
        "outputId": "295b8a85-40c1-44f0-8a1c-d2b4d897bd00"
      },
      "execution_count": 305,
      "outputs": [
        {
          "output_type": "execute_result",
          "data": {
            "text/plain": [
              "          Density\n",
              "count  250.000000\n",
              "mean     1.055201\n",
              "std      0.018570\n",
              "min      0.997900\n",
              "25%      1.041400\n",
              "50%      1.054800\n",
              "75%      1.070050\n",
              "max      1.099100"
            ],
            "text/html": [
              "\n",
              "  <div id=\"df-ed00508e-be53-4f10-9a75-7f3e0304ffd5\">\n",
              "    <div class=\"colab-df-container\">\n",
              "      <div>\n",
              "<style scoped>\n",
              "    .dataframe tbody tr th:only-of-type {\n",
              "        vertical-align: middle;\n",
              "    }\n",
              "\n",
              "    .dataframe tbody tr th {\n",
              "        vertical-align: top;\n",
              "    }\n",
              "\n",
              "    .dataframe thead th {\n",
              "        text-align: right;\n",
              "    }\n",
              "</style>\n",
              "<table border=\"1\" class=\"dataframe\">\n",
              "  <thead>\n",
              "    <tr style=\"text-align: right;\">\n",
              "      <th></th>\n",
              "      <th>Density</th>\n",
              "    </tr>\n",
              "  </thead>\n",
              "  <tbody>\n",
              "    <tr>\n",
              "      <th>count</th>\n",
              "      <td>250.000000</td>\n",
              "    </tr>\n",
              "    <tr>\n",
              "      <th>mean</th>\n",
              "      <td>1.055201</td>\n",
              "    </tr>\n",
              "    <tr>\n",
              "      <th>std</th>\n",
              "      <td>0.018570</td>\n",
              "    </tr>\n",
              "    <tr>\n",
              "      <th>min</th>\n",
              "      <td>0.997900</td>\n",
              "    </tr>\n",
              "    <tr>\n",
              "      <th>25%</th>\n",
              "      <td>1.041400</td>\n",
              "    </tr>\n",
              "    <tr>\n",
              "      <th>50%</th>\n",
              "      <td>1.054800</td>\n",
              "    </tr>\n",
              "    <tr>\n",
              "      <th>75%</th>\n",
              "      <td>1.070050</td>\n",
              "    </tr>\n",
              "    <tr>\n",
              "      <th>max</th>\n",
              "      <td>1.099100</td>\n",
              "    </tr>\n",
              "  </tbody>\n",
              "</table>\n",
              "</div>\n",
              "      <button class=\"colab-df-convert\" onclick=\"convertToInteractive('df-ed00508e-be53-4f10-9a75-7f3e0304ffd5')\"\n",
              "              title=\"Convert this dataframe to an interactive table.\"\n",
              "              style=\"display:none;\">\n",
              "        \n",
              "  <svg xmlns=\"http://www.w3.org/2000/svg\" height=\"24px\"viewBox=\"0 0 24 24\"\n",
              "       width=\"24px\">\n",
              "    <path d=\"M0 0h24v24H0V0z\" fill=\"none\"/>\n",
              "    <path d=\"M18.56 5.44l.94 2.06.94-2.06 2.06-.94-2.06-.94-.94-2.06-.94 2.06-2.06.94zm-11 1L8.5 8.5l.94-2.06 2.06-.94-2.06-.94L8.5 2.5l-.94 2.06-2.06.94zm10 10l.94 2.06.94-2.06 2.06-.94-2.06-.94-.94-2.06-.94 2.06-2.06.94z\"/><path d=\"M17.41 7.96l-1.37-1.37c-.4-.4-.92-.59-1.43-.59-.52 0-1.04.2-1.43.59L10.3 9.45l-7.72 7.72c-.78.78-.78 2.05 0 2.83L4 21.41c.39.39.9.59 1.41.59.51 0 1.02-.2 1.41-.59l7.78-7.78 2.81-2.81c.8-.78.8-2.07 0-2.86zM5.41 20L4 18.59l7.72-7.72 1.47 1.35L5.41 20z\"/>\n",
              "  </svg>\n",
              "      </button>\n",
              "      \n",
              "  <style>\n",
              "    .colab-df-container {\n",
              "      display:flex;\n",
              "      flex-wrap:wrap;\n",
              "      gap: 12px;\n",
              "    }\n",
              "\n",
              "    .colab-df-convert {\n",
              "      background-color: #E8F0FE;\n",
              "      border: none;\n",
              "      border-radius: 50%;\n",
              "      cursor: pointer;\n",
              "      display: none;\n",
              "      fill: #1967D2;\n",
              "      height: 32px;\n",
              "      padding: 0 0 0 0;\n",
              "      width: 32px;\n",
              "    }\n",
              "\n",
              "    .colab-df-convert:hover {\n",
              "      background-color: #E2EBFA;\n",
              "      box-shadow: 0px 1px 2px rgba(60, 64, 67, 0.3), 0px 1px 3px 1px rgba(60, 64, 67, 0.15);\n",
              "      fill: #174EA6;\n",
              "    }\n",
              "\n",
              "    [theme=dark] .colab-df-convert {\n",
              "      background-color: #3B4455;\n",
              "      fill: #D2E3FC;\n",
              "    }\n",
              "\n",
              "    [theme=dark] .colab-df-convert:hover {\n",
              "      background-color: #434B5C;\n",
              "      box-shadow: 0px 1px 3px 1px rgba(0, 0, 0, 0.15);\n",
              "      filter: drop-shadow(0px 1px 2px rgba(0, 0, 0, 0.3));\n",
              "      fill: #FFFFFF;\n",
              "    }\n",
              "  </style>\n",
              "\n",
              "      <script>\n",
              "        const buttonEl =\n",
              "          document.querySelector('#df-ed00508e-be53-4f10-9a75-7f3e0304ffd5 button.colab-df-convert');\n",
              "        buttonEl.style.display =\n",
              "          google.colab.kernel.accessAllowed ? 'block' : 'none';\n",
              "\n",
              "        async function convertToInteractive(key) {\n",
              "          const element = document.querySelector('#df-ed00508e-be53-4f10-9a75-7f3e0304ffd5');\n",
              "          const dataTable =\n",
              "            await google.colab.kernel.invokeFunction('convertToInteractive',\n",
              "                                                     [key], {});\n",
              "          if (!dataTable) return;\n",
              "\n",
              "          const docLinkHtml = 'Like what you see? Visit the ' +\n",
              "            '<a target=\"_blank\" href=https://colab.research.google.com/notebooks/data_table.ipynb>data table notebook</a>'\n",
              "            + ' to learn more about interactive tables.';\n",
              "          element.innerHTML = '';\n",
              "          dataTable['output_type'] = 'display_data';\n",
              "          await google.colab.output.renderOutput(dataTable, element);\n",
              "          const docLink = document.createElement('div');\n",
              "          docLink.innerHTML = docLinkHtml;\n",
              "          element.appendChild(docLink);\n",
              "        }\n",
              "      </script>\n",
              "    </div>\n",
              "  </div>\n",
              "  "
            ]
          },
          "metadata": {},
          "execution_count": 305
        }
      ]
    },
    {
      "cell_type": "code",
      "source": [
        "# The Pipeline\n",
        "from sklearn.pipeline import Pipeline\n",
        "from sklearn.model_selection import KFold\n",
        "from sklearn.model_selection import cross_validate\n",
        "\n",
        "X_train, X_test, Y_train, Y_test = train_test_split(X, Y, test_size=0.2, random_state = 42)\n",
        "pipeline = Pipeline([('transformer', StandardScaler()), ('estimator', LinearRegression())])\n",
        "cvfolds = KFold(n_splits=4)\n",
        "scores = cross_validate(pipeline.fit(X_train, Y_train), X_train, Y_train, cv = cvfolds, scoring=('r2', 'neg_root_mean_squared_error'), return_train_score=True)\n",
        "\n",
        "# Training metrics\n",
        "print('r2 score for the traning', scores['train_r2'])\n",
        "print('Avergae r2 score for the traning acrros folds ', scores['train_r2'].mean())\n",
        "# Testing metrics\n",
        "print('r2 score for the validation', scores['test_r2'])\n",
        "print('Avergae r2 score for the validation ', scores['test_r2'].mean())"
      ],
      "metadata": {
        "colab": {
          "base_uri": "https://localhost:8080/"
        },
        "id": "whuurUp3loOt",
        "outputId": "627733d0-4082-4099-f651-ec67c0867c5c"
      },
      "execution_count": 306,
      "outputs": [
        {
          "output_type": "stream",
          "name": "stdout",
          "text": [
            "r2 score for the traning [0.96295279 0.99091411 0.96854298 0.95996681]\n",
            "Avergae r2 score for the traning acrros folds  0.9705941707444627\n",
            "r2 score for the validation [0.99350024 0.88941525 0.97570191 0.99830056]\n",
            "Avergae r2 score for the validation  0.964229488714534\n"
          ]
        }
      ]
    },
    {
      "cell_type": "code",
      "source": [
        "print(\"Linear Regression intercept: \", pipeline['estimator'].intercept_)\n",
        "print(\"Linear Regression coefficients: \", pipeline['estimator'].coef_)"
      ],
      "metadata": {
        "colab": {
          "base_uri": "https://localhost:8080/"
        },
        "id": "KULyO_ez1kb1",
        "outputId": "65adcfe9-572a-4129-bb28-a7aa02853078"
      },
      "execution_count": 307,
      "outputs": [
        {
          "output_type": "stream",
          "name": "stdout",
          "text": [
            "Linear Regression intercept:  [19.3116875]\n",
            "Linear Regression coefficients:  [[-8.18967983]]\n"
          ]
        }
      ]
    },
    {
      "cell_type": "markdown",
      "source": [
        "**Therefore, the equation of Density-only linear regression model is:**\n",
        "\n",
        "**$$\\textrm{Body Fat} = -8.1897 \\times \\textrm{Density} + 19.3116875$$**"
      ],
      "metadata": {
        "id": "IjRfyeLfCwgM"
      }
    },
    {
      "cell_type": "code",
      "source": [
        "# Testig the Linear Model on the Testing Data(X_test)\n",
        "pipeline.score(X_test, Y_test)"
      ],
      "metadata": {
        "colab": {
          "base_uri": "https://localhost:8080/"
        },
        "id": "0y3t_eH2Sm6N",
        "outputId": "1e6a1e9b-f120-474e-e850-7b1289f36189"
      },
      "execution_count": 308,
      "outputs": [
        {
          "output_type": "execute_result",
          "data": {
            "text/plain": [
              "0.9991230713184147"
            ]
          },
          "metadata": {},
          "execution_count": 308
        }
      ]
    },
    {
      "cell_type": "markdown",
      "source": [
        "**The model based on The Density has got near-perfect r2 score. This is expected based on pearson's correlation and mutual information steps done in EDA.**"
      ],
      "metadata": {
        "id": "WFTzhJg_TVtf"
      }
    },
    {
      "cell_type": "markdown",
      "source": [
        "**Model 2: Dropping Density Feature, Implementing Linear Model on all other Input Features. Since Density is highly correlated with BodyFat, This step to get to know how much accurate the model in its estimates without Density predictor. In other words, how much the model relys on Density.**"
      ],
      "metadata": {
        "id": "NHd0nG49EjBu"
      }
    },
    {
      "cell_type": "code",
      "source": [
        "X = df_clean.drop(['BodyFat', 'Density'], axis = 1)\n",
        "X.describe()"
      ],
      "metadata": {
        "colab": {
          "base_uri": "https://localhost:8080/",
          "height": 365
        },
        "id": "eYYHGCZyE4Cb",
        "outputId": "a3847943-786f-4679-e402-dc0739f2024f"
      },
      "execution_count": 309,
      "outputs": [
        {
          "output_type": "execute_result",
          "data": {
            "text/plain": [
              "              Age      Weight     Height        Neck      Chest     Abdomen  \\\n",
              "count  250.000000  250.000000  250.00000  250.000000  250.00000  250.000000   \n",
              "mean    44.944000   81.321260    1.75784   38.000350  100.86770   92.590600   \n",
              "std     12.633101   12.242881    0.06637    2.281767    8.05556   10.170225   \n",
              "min     22.000000   56.820000    1.56000   31.862500   83.40000   70.400000   \n",
              "25%     36.000000   72.445000    1.71000   36.400000   94.67500   85.225000   \n",
              "50%     43.500000   80.340000    1.75500   38.000000   99.70000   91.050000   \n",
              "75%     54.000000   89.550000    1.81000   39.475000  105.52500   99.575000   \n",
              "max     81.000000  115.462500    1.94000   43.962500  121.91250  121.450000   \n",
              "\n",
              "              Hip       Thigh        Knee       Ankle      Biceps     Forearm  \\\n",
              "count  250.000000  250.000000  250.000000  250.000000  250.000000  250.000000   \n",
              "mean    99.836350   59.414000   38.597800   23.053600   32.303650   28.703000   \n",
              "std      6.360306    4.886689    2.296152    1.396009    2.917935    1.945699   \n",
              "min     85.300000   49.300000   33.000000   19.100000   25.300000   23.250000   \n",
              "25%     95.600000   56.100000   37.100000   22.000000   30.300000   27.300000   \n",
              "50%     99.300000   59.050000   38.500000   22.800000   32.100000   28.750000   \n",
              "75%    103.575000   62.450000   39.975000   24.000000   34.375000   30.000000   \n",
              "max    115.562500   71.875000   44.350000   27.000000   40.512500   34.050000   \n",
              "\n",
              "            Wrist  \n",
              "count  250.000000  \n",
              "mean    18.234400  \n",
              "std      0.904305  \n",
              "min     15.800000  \n",
              "25%     17.600000  \n",
              "50%     18.300000  \n",
              "75%     18.800000  \n",
              "max     20.600000  "
            ],
            "text/html": [
              "\n",
              "  <div id=\"df-a7da4f9d-78d4-426d-b409-6a3e7531ef5b\">\n",
              "    <div class=\"colab-df-container\">\n",
              "      <div>\n",
              "<style scoped>\n",
              "    .dataframe tbody tr th:only-of-type {\n",
              "        vertical-align: middle;\n",
              "    }\n",
              "\n",
              "    .dataframe tbody tr th {\n",
              "        vertical-align: top;\n",
              "    }\n",
              "\n",
              "    .dataframe thead th {\n",
              "        text-align: right;\n",
              "    }\n",
              "</style>\n",
              "<table border=\"1\" class=\"dataframe\">\n",
              "  <thead>\n",
              "    <tr style=\"text-align: right;\">\n",
              "      <th></th>\n",
              "      <th>Age</th>\n",
              "      <th>Weight</th>\n",
              "      <th>Height</th>\n",
              "      <th>Neck</th>\n",
              "      <th>Chest</th>\n",
              "      <th>Abdomen</th>\n",
              "      <th>Hip</th>\n",
              "      <th>Thigh</th>\n",
              "      <th>Knee</th>\n",
              "      <th>Ankle</th>\n",
              "      <th>Biceps</th>\n",
              "      <th>Forearm</th>\n",
              "      <th>Wrist</th>\n",
              "    </tr>\n",
              "  </thead>\n",
              "  <tbody>\n",
              "    <tr>\n",
              "      <th>count</th>\n",
              "      <td>250.000000</td>\n",
              "      <td>250.000000</td>\n",
              "      <td>250.00000</td>\n",
              "      <td>250.000000</td>\n",
              "      <td>250.00000</td>\n",
              "      <td>250.000000</td>\n",
              "      <td>250.000000</td>\n",
              "      <td>250.000000</td>\n",
              "      <td>250.000000</td>\n",
              "      <td>250.000000</td>\n",
              "      <td>250.000000</td>\n",
              "      <td>250.000000</td>\n",
              "      <td>250.000000</td>\n",
              "    </tr>\n",
              "    <tr>\n",
              "      <th>mean</th>\n",
              "      <td>44.944000</td>\n",
              "      <td>81.321260</td>\n",
              "      <td>1.75784</td>\n",
              "      <td>38.000350</td>\n",
              "      <td>100.86770</td>\n",
              "      <td>92.590600</td>\n",
              "      <td>99.836350</td>\n",
              "      <td>59.414000</td>\n",
              "      <td>38.597800</td>\n",
              "      <td>23.053600</td>\n",
              "      <td>32.303650</td>\n",
              "      <td>28.703000</td>\n",
              "      <td>18.234400</td>\n",
              "    </tr>\n",
              "    <tr>\n",
              "      <th>std</th>\n",
              "      <td>12.633101</td>\n",
              "      <td>12.242881</td>\n",
              "      <td>0.06637</td>\n",
              "      <td>2.281767</td>\n",
              "      <td>8.05556</td>\n",
              "      <td>10.170225</td>\n",
              "      <td>6.360306</td>\n",
              "      <td>4.886689</td>\n",
              "      <td>2.296152</td>\n",
              "      <td>1.396009</td>\n",
              "      <td>2.917935</td>\n",
              "      <td>1.945699</td>\n",
              "      <td>0.904305</td>\n",
              "    </tr>\n",
              "    <tr>\n",
              "      <th>min</th>\n",
              "      <td>22.000000</td>\n",
              "      <td>56.820000</td>\n",
              "      <td>1.56000</td>\n",
              "      <td>31.862500</td>\n",
              "      <td>83.40000</td>\n",
              "      <td>70.400000</td>\n",
              "      <td>85.300000</td>\n",
              "      <td>49.300000</td>\n",
              "      <td>33.000000</td>\n",
              "      <td>19.100000</td>\n",
              "      <td>25.300000</td>\n",
              "      <td>23.250000</td>\n",
              "      <td>15.800000</td>\n",
              "    </tr>\n",
              "    <tr>\n",
              "      <th>25%</th>\n",
              "      <td>36.000000</td>\n",
              "      <td>72.445000</td>\n",
              "      <td>1.71000</td>\n",
              "      <td>36.400000</td>\n",
              "      <td>94.67500</td>\n",
              "      <td>85.225000</td>\n",
              "      <td>95.600000</td>\n",
              "      <td>56.100000</td>\n",
              "      <td>37.100000</td>\n",
              "      <td>22.000000</td>\n",
              "      <td>30.300000</td>\n",
              "      <td>27.300000</td>\n",
              "      <td>17.600000</td>\n",
              "    </tr>\n",
              "    <tr>\n",
              "      <th>50%</th>\n",
              "      <td>43.500000</td>\n",
              "      <td>80.340000</td>\n",
              "      <td>1.75500</td>\n",
              "      <td>38.000000</td>\n",
              "      <td>99.70000</td>\n",
              "      <td>91.050000</td>\n",
              "      <td>99.300000</td>\n",
              "      <td>59.050000</td>\n",
              "      <td>38.500000</td>\n",
              "      <td>22.800000</td>\n",
              "      <td>32.100000</td>\n",
              "      <td>28.750000</td>\n",
              "      <td>18.300000</td>\n",
              "    </tr>\n",
              "    <tr>\n",
              "      <th>75%</th>\n",
              "      <td>54.000000</td>\n",
              "      <td>89.550000</td>\n",
              "      <td>1.81000</td>\n",
              "      <td>39.475000</td>\n",
              "      <td>105.52500</td>\n",
              "      <td>99.575000</td>\n",
              "      <td>103.575000</td>\n",
              "      <td>62.450000</td>\n",
              "      <td>39.975000</td>\n",
              "      <td>24.000000</td>\n",
              "      <td>34.375000</td>\n",
              "      <td>30.000000</td>\n",
              "      <td>18.800000</td>\n",
              "    </tr>\n",
              "    <tr>\n",
              "      <th>max</th>\n",
              "      <td>81.000000</td>\n",
              "      <td>115.462500</td>\n",
              "      <td>1.94000</td>\n",
              "      <td>43.962500</td>\n",
              "      <td>121.91250</td>\n",
              "      <td>121.450000</td>\n",
              "      <td>115.562500</td>\n",
              "      <td>71.875000</td>\n",
              "      <td>44.350000</td>\n",
              "      <td>27.000000</td>\n",
              "      <td>40.512500</td>\n",
              "      <td>34.050000</td>\n",
              "      <td>20.600000</td>\n",
              "    </tr>\n",
              "  </tbody>\n",
              "</table>\n",
              "</div>\n",
              "      <button class=\"colab-df-convert\" onclick=\"convertToInteractive('df-a7da4f9d-78d4-426d-b409-6a3e7531ef5b')\"\n",
              "              title=\"Convert this dataframe to an interactive table.\"\n",
              "              style=\"display:none;\">\n",
              "        \n",
              "  <svg xmlns=\"http://www.w3.org/2000/svg\" height=\"24px\"viewBox=\"0 0 24 24\"\n",
              "       width=\"24px\">\n",
              "    <path d=\"M0 0h24v24H0V0z\" fill=\"none\"/>\n",
              "    <path d=\"M18.56 5.44l.94 2.06.94-2.06 2.06-.94-2.06-.94-.94-2.06-.94 2.06-2.06.94zm-11 1L8.5 8.5l.94-2.06 2.06-.94-2.06-.94L8.5 2.5l-.94 2.06-2.06.94zm10 10l.94 2.06.94-2.06 2.06-.94-2.06-.94-.94-2.06-.94 2.06-2.06.94z\"/><path d=\"M17.41 7.96l-1.37-1.37c-.4-.4-.92-.59-1.43-.59-.52 0-1.04.2-1.43.59L10.3 9.45l-7.72 7.72c-.78.78-.78 2.05 0 2.83L4 21.41c.39.39.9.59 1.41.59.51 0 1.02-.2 1.41-.59l7.78-7.78 2.81-2.81c.8-.78.8-2.07 0-2.86zM5.41 20L4 18.59l7.72-7.72 1.47 1.35L5.41 20z\"/>\n",
              "  </svg>\n",
              "      </button>\n",
              "      \n",
              "  <style>\n",
              "    .colab-df-container {\n",
              "      display:flex;\n",
              "      flex-wrap:wrap;\n",
              "      gap: 12px;\n",
              "    }\n",
              "\n",
              "    .colab-df-convert {\n",
              "      background-color: #E8F0FE;\n",
              "      border: none;\n",
              "      border-radius: 50%;\n",
              "      cursor: pointer;\n",
              "      display: none;\n",
              "      fill: #1967D2;\n",
              "      height: 32px;\n",
              "      padding: 0 0 0 0;\n",
              "      width: 32px;\n",
              "    }\n",
              "\n",
              "    .colab-df-convert:hover {\n",
              "      background-color: #E2EBFA;\n",
              "      box-shadow: 0px 1px 2px rgba(60, 64, 67, 0.3), 0px 1px 3px 1px rgba(60, 64, 67, 0.15);\n",
              "      fill: #174EA6;\n",
              "    }\n",
              "\n",
              "    [theme=dark] .colab-df-convert {\n",
              "      background-color: #3B4455;\n",
              "      fill: #D2E3FC;\n",
              "    }\n",
              "\n",
              "    [theme=dark] .colab-df-convert:hover {\n",
              "      background-color: #434B5C;\n",
              "      box-shadow: 0px 1px 3px 1px rgba(0, 0, 0, 0.15);\n",
              "      filter: drop-shadow(0px 1px 2px rgba(0, 0, 0, 0.3));\n",
              "      fill: #FFFFFF;\n",
              "    }\n",
              "  </style>\n",
              "\n",
              "      <script>\n",
              "        const buttonEl =\n",
              "          document.querySelector('#df-a7da4f9d-78d4-426d-b409-6a3e7531ef5b button.colab-df-convert');\n",
              "        buttonEl.style.display =\n",
              "          google.colab.kernel.accessAllowed ? 'block' : 'none';\n",
              "\n",
              "        async function convertToInteractive(key) {\n",
              "          const element = document.querySelector('#df-a7da4f9d-78d4-426d-b409-6a3e7531ef5b');\n",
              "          const dataTable =\n",
              "            await google.colab.kernel.invokeFunction('convertToInteractive',\n",
              "                                                     [key], {});\n",
              "          if (!dataTable) return;\n",
              "\n",
              "          const docLinkHtml = 'Like what you see? Visit the ' +\n",
              "            '<a target=\"_blank\" href=https://colab.research.google.com/notebooks/data_table.ipynb>data table notebook</a>'\n",
              "            + ' to learn more about interactive tables.';\n",
              "          element.innerHTML = '';\n",
              "          dataTable['output_type'] = 'display_data';\n",
              "          await google.colab.output.renderOutput(dataTable, element);\n",
              "          const docLink = document.createElement('div');\n",
              "          docLink.innerHTML = docLinkHtml;\n",
              "          element.appendChild(docLink);\n",
              "        }\n",
              "      </script>\n",
              "    </div>\n",
              "  </div>\n",
              "  "
            ]
          },
          "metadata": {},
          "execution_count": 309
        }
      ]
    },
    {
      "cell_type": "code",
      "source": [
        "X_train, X_test, Y_train, Y_test = train_test_split(X, Y, test_size=0.2, random_state = 42)\n",
        "scores = cross_validate(pipeline.fit(X_train, Y_train), X_train, Y_train, cv = cvfolds, scoring=('r2', 'neg_root_mean_squared_error'), return_train_score=True)\n",
        "\n",
        "print('r2 score for the traning', scores['train_r2'])\n",
        "print('Avergae r2 score for the traning acrros folds ', scores['train_r2'].mean())\n",
        "\n",
        "print('r2 score for the validation', scores['test_r2'])\n",
        "print('Avergae r2 score for the validation ', scores['test_r2'].mean())\n"
      ],
      "metadata": {
        "colab": {
          "base_uri": "https://localhost:8080/"
        },
        "id": "btddum-jB4_m",
        "outputId": "913e2645-a9f3-47cd-aab1-2d0478ed9d23"
      },
      "execution_count": 310,
      "outputs": [
        {
          "output_type": "stream",
          "name": "stdout",
          "text": [
            "r2 score for the traning [0.76148562 0.79260217 0.77517814 0.76964606]\n",
            "Avergae r2 score for the traning acrros folds  0.774727997927587\n",
            "r2 score for the validation [0.74000729 0.59798378 0.69525602 0.71978998]\n",
            "Avergae r2 score for the validation  0.688259268245279\n"
          ]
        }
      ]
    },
    {
      "cell_type": "code",
      "source": [
        "print(\"Linear Regression intercept: \", pipeline['estimator'].intercept_)\n",
        "print(\"Linear Regression coefficients: \", pipeline['estimator'].coef_)"
      ],
      "metadata": {
        "colab": {
          "base_uri": "https://localhost:8080/"
        },
        "id": "YI37CMl8TEVz",
        "outputId": "a72a4a71-3f0f-42df-b983-a56e2d773f13"
      },
      "execution_count": 311,
      "outputs": [
        {
          "output_type": "stream",
          "name": "stdout",
          "text": [
            "Linear Regression intercept:  [19.3116875]\n",
            "Linear Regression coefficients:  [[ 0.88412516 -0.35608364 -0.78942445 -0.85665237 -1.07961938  9.34996423\n",
            "  -1.13304941  0.84861473  0.02497418 -0.07723231  0.4515094   0.68467302\n",
            "  -1.60179274]]\n"
          ]
        }
      ]
    },
    {
      "cell_type": "markdown",
      "source": [
        "**Therefore, the regression equation for all features -excluding Density- by the linear model is:**\n",
        "\n",
        "**$$\\textrm{Body Fat} = 0.8841 \\times \\textrm{Age} - 0.3560\\times \\textrm{Weight} - 0.7894\\times \\textrm{Height} - 0.8567\\times \\textrm{Neck} - 1.0796\\times \\textrm{Chest} + 9.3349\\times \\textrm{Abdomen} - 1.1330\\times \\textrm{Hip} + 0.8547\\times \\textrm{Thigh} + 0.0250\\times \\textrm{Knee} - 0.0772\\times \\textrm{Ankle} + 0.4515\\times \\textrm{Biceps} + 0.6847\\times \\textrm{Forearm} - 1.6018\\times \\textrm{Wrist}- 19.3116875$$**"
      ],
      "metadata": {
        "id": "HQus2uZoslZa"
      }
    },
    {
      "cell_type": "code",
      "source": [
        "# Testig the Linear Model on the Testing Data(X_test)\n",
        "pipeline.score(X_test, Y_test)"
      ],
      "metadata": {
        "colab": {
          "base_uri": "https://localhost:8080/"
        },
        "id": "R578mQ5dzOT0",
        "outputId": "3d2f7c99-07c2-4ac6-bb21-99e0805bbd62"
      },
      "execution_count": 312,
      "outputs": [
        {
          "output_type": "execute_result",
          "data": {
            "text/plain": [
              "0.668904282528741"
            ]
          },
          "metadata": {},
          "execution_count": 312
        }
      ]
    },
    {
      "cell_type": "code",
      "source": [
        "# get excution time\n",
        "end = time.time()\n",
        "print(f\"Time taken: {(end-start)*10**3:.03f}ms\")"
      ],
      "metadata": {
        "colab": {
          "base_uri": "https://localhost:8080/"
        },
        "id": "u39bZ9kK6KY0",
        "outputId": "24150b32-3566-4010-ea0e-8520b0fa3d8a"
      },
      "execution_count": 313,
      "outputs": [
        {
          "output_type": "stream",
          "name": "stdout",
          "text": [
            "Time taken: 4918.073ms\n"
          ]
        }
      ]
    },
    {
      "cell_type": "markdown",
      "source": [
        "**Moderate r2 score on testing data (0.669).**"
      ],
      "metadata": {
        "id": "qoMkiMuFnX-K"
      }
    },
    {
      "cell_type": "markdown",
      "source": [
        "**By Looking on the results above:**\n",
        "\n",
        "**- Using feature elimnation results in simpler model without degrading model performace.**\n",
        "\n",
        "**- Perdicting the percentage of body fat relies very much on Density feature.**\n",
        "\n",
        "**- The linear model has striking results with Density-only model due to linear relationship and high correlation between the input, the Density predictor, and target variable that is easy to map, which in turn led to very high r2 score.**\n",
        "\n",
        "**- Model 1 can predict unseen samples according to the equation stated above formed through the learning process.**\n"
      ],
      "metadata": {
        "id": "u3aAquVe8rIm"
      }
    }
  ],
  "metadata": {
    "colab": {
      "collapsed_sections": [
        "FG2tBSNHunN6"
      ],
      "provenance": [],
      "authorship_tag": "ABX9TyOYi4BWDX4VaGE5JW7vuJMn",
      "include_colab_link": true
    },
    "kernelspec": {
      "display_name": "Python 3",
      "name": "python3"
    },
    "language_info": {
      "name": "python"
    }
  },
  "nbformat": 4,
  "nbformat_minor": 0
}